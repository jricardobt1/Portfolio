{
 "cells": [
  {
   "cell_type": "markdown",
   "id": "c40a9909",
   "metadata": {},
   "source": [
    "# Predicting SP500 with Random Forest"
   ]
  },
  {
   "cell_type": "code",
   "execution_count": null,
   "id": "1cb2863e",
   "metadata": {},
   "outputs": [],
   "source": [
    "import yfinance as yf\n",
    "import pandas as pd\n",
    "from sklearn.ensemble import RandomForestClassifier\n",
    "from xgboost import XGBClassifier, plot_importance\n",
    "from sklearn.metrics import accuracy_score, precision_score, recall_score, f1_score, confusion_matrix, ConfusionMatrixDisplay\n",
    "import matplotlib.pyplot as plt"
   ]
  },
  {
   "cell_type": "markdown",
   "id": "31e358b2",
   "metadata": {},
   "source": [
    "Importing SP500 Index with the maximum historical data"
   ]
  },
  {
   "cell_type": "code",
   "execution_count": 42,
   "id": "83455170",
   "metadata": {},
   "outputs": [],
   "source": [
    "sp500 = yf.Ticker(\"^GSPC\")"
   ]
  },
  {
   "cell_type": "code",
   "execution_count": 43,
   "id": "4f0ed001",
   "metadata": {},
   "outputs": [],
   "source": [
    "sp500 = sp500.history(period=\"max\")"
   ]
  },
  {
   "cell_type": "markdown",
   "id": "132ee895",
   "metadata": {},
   "source": [
    "Dropping unnecessary columns (Dividends and Stock Splits are for specific Stocks, not index)"
   ]
  },
  {
   "cell_type": "code",
   "execution_count": 44,
   "id": "6dddb557",
   "metadata": {},
   "outputs": [],
   "source": [
    "sp500 = sp500.drop(['Dividends','Stock Splits'],axis=1)"
   ]
  },
  {
   "cell_type": "markdown",
   "id": "267e3685",
   "metadata": {},
   "source": [
    "**Feature Engineering:**\n",
    "\n",
    "* 'Tomorrow' column will reflect the close price of the following day.\n",
    "* 'Target' is a boolean value that indicates if the price was higher (1) or lower (0) than yesterday"
   ]
  },
  {
   "cell_type": "code",
   "execution_count": 45,
   "id": "bb383a3e",
   "metadata": {},
   "outputs": [],
   "source": [
    "sp500['Tomorrow'] = sp500['Close'].shift(-1)"
   ]
  },
  {
   "cell_type": "code",
   "execution_count": 46,
   "id": "f12482ee",
   "metadata": {},
   "outputs": [],
   "source": [
    "sp500['Target'] = (sp500['Tomorrow'] > sp500['Close']).astype(int)"
   ]
  },
  {
   "cell_type": "markdown",
   "id": "832f3017",
   "metadata": {},
   "source": [
    "Filtering only data after Jan 1st, 1990"
   ]
  },
  {
   "cell_type": "code",
   "execution_count": 47,
   "id": "1ec1fd7b",
   "metadata": {},
   "outputs": [],
   "source": [
    "sp500 = sp500.loc['1990-01-01':].copy()"
   ]
  },
  {
   "cell_type": "markdown",
   "id": "afd494ed",
   "metadata": {},
   "source": [
    "Instantiate **Random Forest Model**"
   ]
  },
  {
   "cell_type": "code",
   "execution_count": 48,
   "id": "f1495550",
   "metadata": {},
   "outputs": [],
   "source": [
    "model = RandomForestClassifier(n_estimators=100,min_samples_split=100,random_state=42)"
   ]
  },
  {
   "cell_type": "markdown",
   "id": "6d3aa819",
   "metadata": {},
   "source": [
    "Fitting the 1st Version of the Model\n",
    "\n",
    "**Train** dataset will be all data with exception of the last 100 days, which will be used on the **Test** dataset"
   ]
  },
  {
   "cell_type": "code",
   "execution_count": 49,
   "id": "42f00a74",
   "metadata": {},
   "outputs": [
    {
     "data": {
      "text/html": [
       "<style>#sk-container-id-2 {color: black;}#sk-container-id-2 pre{padding: 0;}#sk-container-id-2 div.sk-toggleable {background-color: white;}#sk-container-id-2 label.sk-toggleable__label {cursor: pointer;display: block;width: 100%;margin-bottom: 0;padding: 0.3em;box-sizing: border-box;text-align: center;}#sk-container-id-2 label.sk-toggleable__label-arrow:before {content: \"▸\";float: left;margin-right: 0.25em;color: #696969;}#sk-container-id-2 label.sk-toggleable__label-arrow:hover:before {color: black;}#sk-container-id-2 div.sk-estimator:hover label.sk-toggleable__label-arrow:before {color: black;}#sk-container-id-2 div.sk-toggleable__content {max-height: 0;max-width: 0;overflow: hidden;text-align: left;background-color: #f0f8ff;}#sk-container-id-2 div.sk-toggleable__content pre {margin: 0.2em;color: black;border-radius: 0.25em;background-color: #f0f8ff;}#sk-container-id-2 input.sk-toggleable__control:checked~div.sk-toggleable__content {max-height: 200px;max-width: 100%;overflow: auto;}#sk-container-id-2 input.sk-toggleable__control:checked~label.sk-toggleable__label-arrow:before {content: \"▾\";}#sk-container-id-2 div.sk-estimator input.sk-toggleable__control:checked~label.sk-toggleable__label {background-color: #d4ebff;}#sk-container-id-2 div.sk-label input.sk-toggleable__control:checked~label.sk-toggleable__label {background-color: #d4ebff;}#sk-container-id-2 input.sk-hidden--visually {border: 0;clip: rect(1px 1px 1px 1px);clip: rect(1px, 1px, 1px, 1px);height: 1px;margin: -1px;overflow: hidden;padding: 0;position: absolute;width: 1px;}#sk-container-id-2 div.sk-estimator {font-family: monospace;background-color: #f0f8ff;border: 1px dotted black;border-radius: 0.25em;box-sizing: border-box;margin-bottom: 0.5em;}#sk-container-id-2 div.sk-estimator:hover {background-color: #d4ebff;}#sk-container-id-2 div.sk-parallel-item::after {content: \"\";width: 100%;border-bottom: 1px solid gray;flex-grow: 1;}#sk-container-id-2 div.sk-label:hover label.sk-toggleable__label {background-color: #d4ebff;}#sk-container-id-2 div.sk-serial::before {content: \"\";position: absolute;border-left: 1px solid gray;box-sizing: border-box;top: 0;bottom: 0;left: 50%;z-index: 0;}#sk-container-id-2 div.sk-serial {display: flex;flex-direction: column;align-items: center;background-color: white;padding-right: 0.2em;padding-left: 0.2em;position: relative;}#sk-container-id-2 div.sk-item {position: relative;z-index: 1;}#sk-container-id-2 div.sk-parallel {display: flex;align-items: stretch;justify-content: center;background-color: white;position: relative;}#sk-container-id-2 div.sk-item::before, #sk-container-id-2 div.sk-parallel-item::before {content: \"\";position: absolute;border-left: 1px solid gray;box-sizing: border-box;top: 0;bottom: 0;left: 50%;z-index: -1;}#sk-container-id-2 div.sk-parallel-item {display: flex;flex-direction: column;z-index: 1;position: relative;background-color: white;}#sk-container-id-2 div.sk-parallel-item:first-child::after {align-self: flex-end;width: 50%;}#sk-container-id-2 div.sk-parallel-item:last-child::after {align-self: flex-start;width: 50%;}#sk-container-id-2 div.sk-parallel-item:only-child::after {width: 0;}#sk-container-id-2 div.sk-dashed-wrapped {border: 1px dashed gray;margin: 0 0.4em 0.5em 0.4em;box-sizing: border-box;padding-bottom: 0.4em;background-color: white;}#sk-container-id-2 div.sk-label label {font-family: monospace;font-weight: bold;display: inline-block;line-height: 1.2em;}#sk-container-id-2 div.sk-label-container {text-align: center;}#sk-container-id-2 div.sk-container {/* jupyter's `normalize.less` sets `[hidden] { display: none; }` but bootstrap.min.css set `[hidden] { display: none !important; }` so we also need the `!important` here to be able to override the default hidden behavior on the sphinx rendered scikit-learn.org. See: https://github.com/scikit-learn/scikit-learn/issues/21755 */display: inline-block !important;position: relative;}#sk-container-id-2 div.sk-text-repr-fallback {display: none;}</style><div id=\"sk-container-id-2\" class=\"sk-top-container\"><div class=\"sk-text-repr-fallback\"><pre>RandomForestClassifier(min_samples_split=100, random_state=42)</pre><b>In a Jupyter environment, please rerun this cell to show the HTML representation or trust the notebook. <br />On GitHub, the HTML representation is unable to render, please try loading this page with nbviewer.org.</b></div><div class=\"sk-container\" hidden><div class=\"sk-item\"><div class=\"sk-estimator sk-toggleable\"><input class=\"sk-toggleable__control sk-hidden--visually\" id=\"sk-estimator-id-2\" type=\"checkbox\" checked><label for=\"sk-estimator-id-2\" class=\"sk-toggleable__label sk-toggleable__label-arrow\">RandomForestClassifier</label><div class=\"sk-toggleable__content\"><pre>RandomForestClassifier(min_samples_split=100, random_state=42)</pre></div></div></div></div></div>"
      ],
      "text/plain": [
       "RandomForestClassifier(min_samples_split=100, random_state=42)"
      ]
     },
     "execution_count": 49,
     "metadata": {},
     "output_type": "execute_result"
    }
   ],
   "source": [
    "train = sp500.iloc[:-100]\n",
    "test = sp500.iloc[-100:]\n",
    "\n",
    "predictors = ['Open', 'High', 'Low', 'Close', 'Volume']\n",
    "model.fit(train[predictors],train['Target'])"
   ]
  },
  {
   "cell_type": "code",
   "execution_count": 50,
   "id": "d6c8e559",
   "metadata": {},
   "outputs": [],
   "source": [
    "y_pred = model.predict(test[predictors])"
   ]
  },
  {
   "cell_type": "code",
   "execution_count": 51,
   "id": "373fbe2e",
   "metadata": {},
   "outputs": [],
   "source": [
    "y_pred = pd.Series(y_pred,index=test.index)"
   ]
  },
  {
   "cell_type": "code",
   "execution_count": 52,
   "id": "194c701c",
   "metadata": {},
   "outputs": [
    {
     "data": {
      "text/plain": [
       "0.5483870967741935"
      ]
     },
     "execution_count": 52,
     "metadata": {},
     "output_type": "execute_result"
    }
   ],
   "source": [
    "precision_score(test['Target'],y_pred)"
   ]
  },
  {
   "cell_type": "markdown",
   "id": "c841ff7c",
   "metadata": {},
   "source": [
    "This result means that we predicted approximately 55% of days in which the SP500 would have a price higher than the day before."
   ]
  },
  {
   "cell_type": "markdown",
   "id": "9945a2a5",
   "metadata": {},
   "source": [
    "### Improving the Model"
   ]
  },
  {
   "cell_type": "markdown",
   "id": "3bf9bc9d",
   "metadata": {},
   "source": [
    "To improve the model, lets build these functions to perform backtest"
   ]
  },
  {
   "cell_type": "code",
   "execution_count": 53,
   "id": "acf03321",
   "metadata": {},
   "outputs": [],
   "source": [
    "def predict(train,test,predictors,model):\n",
    "    model.fit(train[predictors],train['Target'])\n",
    "    pred = model.predict(test[predictors])\n",
    "    pred = pd.Series(pred,index=test.index,name='Predictions')\n",
    "    combined = pd.concat([test['Target'],pred],axis=1)\n",
    "    return combined\n",
    "\n",
    "                                      "
   ]
  },
  {
   "cell_type": "code",
   "execution_count": 54,
   "id": "72f0dce3",
   "metadata": {},
   "outputs": [],
   "source": [
    "def backtest(data,model,predictors,start=2500,step=250):\n",
    "    all_predictions = []\n",
    "    \n",
    "    for i in range(start, data.shape[0],step):\n",
    "        train = data.iloc[0:i].copy()\n",
    "        test = data.iloc[i:(i+step)].copy()\n",
    "        predictions = predict(train,test,predictors,model)\n",
    "        all_predictions.append(predictions)\n",
    "    return pd.concat(all_predictions)"
   ]
  },
  {
   "cell_type": "code",
   "execution_count": 55,
   "id": "84972d05",
   "metadata": {},
   "outputs": [],
   "source": [
    "predictions = backtest(sp500,model,predictors)"
   ]
  },
  {
   "cell_type": "code",
   "execution_count": 56,
   "id": "0bdcfe2c",
   "metadata": {},
   "outputs": [
    {
     "data": {
      "text/plain": [
       "Predictions\n",
       "0    0.578361\n",
       "1    0.421639\n",
       "Name: proportion, dtype: float64"
      ]
     },
     "execution_count": 56,
     "metadata": {},
     "output_type": "execute_result"
    }
   ],
   "source": [
    "predictions['Predictions'].value_counts(normalize=True)"
   ]
  },
  {
   "cell_type": "code",
   "execution_count": 57,
   "id": "0ae60951",
   "metadata": {},
   "outputs": [
    {
     "data": {
      "text/plain": [
       "0.5217729393468118"
      ]
     },
     "execution_count": 57,
     "metadata": {},
     "output_type": "execute_result"
    }
   ],
   "source": [
    "precision_score(predictions['Target'],predictions['Predictions'])"
   ]
  },
  {
   "cell_type": "code",
   "execution_count": 58,
   "id": "786449a1",
   "metadata": {},
   "outputs": [
    {
     "data": {
      "text/plain": [
       "Target\n",
       "1    0.534754\n",
       "0    0.465246\n",
       "Name: proportion, dtype: float64"
      ]
     },
     "execution_count": 58,
     "metadata": {},
     "output_type": "execute_result"
    }
   ],
   "source": [
    "predictions['Target'].value_counts(normalize=True)"
   ]
  },
  {
   "cell_type": "markdown",
   "id": "fe3cf84d",
   "metadata": {},
   "source": [
    "### Adding other predictors"
   ]
  },
  {
   "cell_type": "code",
   "execution_count": 59,
   "id": "b9ec1ea7",
   "metadata": {},
   "outputs": [],
   "source": [
    "#Rolling Averages: 2, 5, 60, 250 and 1000 days\n",
    "#Trend: Number of days that SP500 went up\n",
    "horizons = [2,5,60,250,1000]\n",
    "new_predictors = []\n",
    "\n",
    "for i in horizons:\n",
    "    rolling_averages = sp500.rolling(i).mean()\n",
    "    ratio_column = f'Close_Ratio_{i}'\n",
    "    sp500[ratio_column] = sp500['Close'] / rolling_averages['Close']\n",
    "    \n",
    "    trend_column = f'Trend_{i}'\n",
    "    sp500[trend_column] = sp500.shift(1).rolling(i).sum()['Target']\n",
    "    \n",
    "    new_predictors += [ratio_column,trend_column]"
   ]
  },
  {
   "cell_type": "code",
   "execution_count": 60,
   "id": "b6fde7f6",
   "metadata": {},
   "outputs": [],
   "source": [
    "sp500 = sp500.dropna()"
   ]
  },
  {
   "cell_type": "code",
   "execution_count": 61,
   "id": "37662bcc",
   "metadata": {},
   "outputs": [],
   "source": [
    "model = RandomForestClassifier(n_estimators=200,min_samples_split=50,random_state =42)"
   ]
  },
  {
   "cell_type": "code",
   "execution_count": 62,
   "id": "44be66e4",
   "metadata": {},
   "outputs": [],
   "source": [
    "def predict_new(train,test,predictors,model):\n",
    "    model.fit(train[predictors],train['Target'])\n",
    "    pred = model.predict_proba(test[predictors])[:,1]\n",
    "    pred[pred >= 0.6] = 1\n",
    "    pred[pred < 0.6] = 0\n",
    "    pred = pd.Series(pred,index=test.index,name='Predictions')\n",
    "    combined = pd.concat([test['Target'],pred],axis=1)\n",
    "    return combined\n",
    "                                      "
   ]
  },
  {
   "cell_type": "code",
   "execution_count": 63,
   "id": "c9da1571",
   "metadata": {},
   "outputs": [],
   "source": [
    "new_predictions = backtest(sp500,model,new_predictors)"
   ]
  },
  {
   "cell_type": "code",
   "execution_count": 64,
   "id": "236cb4be",
   "metadata": {},
   "outputs": [
    {
     "data": {
      "text/plain": [
       "Predictions\n",
       "1    0.706021\n",
       "0    0.293979\n",
       "Name: proportion, dtype: float64"
      ]
     },
     "execution_count": 64,
     "metadata": {},
     "output_type": "execute_result"
    }
   ],
   "source": [
    "new_predictions['Predictions'].value_counts(normalize=True)"
   ]
  },
  {
   "cell_type": "code",
   "execution_count": 65,
   "id": "3134e5d0",
   "metadata": {},
   "outputs": [
    {
     "data": {
      "text/plain": [
       "Target\n",
       "1    0.544617\n",
       "0    0.455383\n",
       "Name: proportion, dtype: float64"
      ]
     },
     "execution_count": 65,
     "metadata": {},
     "output_type": "execute_result"
    }
   ],
   "source": [
    "new_predictions['Target'].value_counts(normalize=True)"
   ]
  },
  {
   "cell_type": "code",
   "execution_count": 67,
   "id": "11712202",
   "metadata": {},
   "outputs": [
    {
     "data": {
      "text/plain": [
       "0.5533333333333333"
      ]
     },
     "execution_count": 67,
     "metadata": {},
     "output_type": "execute_result"
    }
   ],
   "source": [
    "precision_score(new_predictions['Target'],new_predictions['Predictions'])"
   ]
  },
  {
   "cell_type": "markdown",
   "id": "e0a7f9b2",
   "metadata": {},
   "source": [
    "## Conclusion"
   ]
  },
  {
   "cell_type": "markdown",
   "id": "5b6fab99",
   "metadata": {},
   "source": [
    "This notebook was intended to showcase a model that had the purpose of trying to predict if the SP500 Index would increase with minimal information input. \n",
    "* The raw model had a precision of **54.8%**, predicting that in **42.0%** of the days the index would increase against the day before. This is slightly worst than the actual number of days that the index went up (42.2%).\n",
    "* With the Backtest and the improved model, our precision increased to **55.3%** and the model was able to predict **53.5%** of the days where the index went up.\n",
    "* This is just the first step of the model. An improved version would have to correlate with foreign indices and other market situation, but just with minimal information and the right parameters we are already better than investing without testing the market."
   ]
  }
 ],
 "metadata": {
  "kernelspec": {
   "display_name": "Python 3 (ipykernel)",
   "language": "python",
   "name": "python3"
  },
  "language_info": {
   "codemirror_mode": {
    "name": "ipython",
    "version": 3
   },
   "file_extension": ".py",
   "mimetype": "text/x-python",
   "name": "python",
   "nbconvert_exporter": "python",
   "pygments_lexer": "ipython3",
   "version": "3.11.5"
  }
 },
 "nbformat": 4,
 "nbformat_minor": 5
}
