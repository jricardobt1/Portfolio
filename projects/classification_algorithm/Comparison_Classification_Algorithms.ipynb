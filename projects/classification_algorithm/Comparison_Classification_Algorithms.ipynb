{
 "cells": [
  {
   "cell_type": "code",
   "execution_count": 1,
   "id": "4520877b",
   "metadata": {},
   "outputs": [],
   "source": [
    "#Importing Operational Libraries\n",
    "import pandas as pd\n",
    "import numpy as np\n",
    "from sklearn.model_selection import GridSearchCV, train_test_split\n",
    "from sklearn.model_selection import PredefinedSplit\n",
    "import sklearn.metrics as metrics\n",
    "\n",
    "#Importing Visualization libraries\n",
    "import seaborn as sns\n",
    "import matplotlib.pyplot as plt\n",
    "\n",
    "#Importing Modeling libraries\n",
    "from sklearn.ensemble import RandomForestClassifier\n",
    "from sklearn.linear_model import LogisticRegression\n",
    "from sklearn.preprocessing import StandardScaler\n",
    "from xgboost import XGBClassifier, plot_importance\n",
    "from sklearn.metrics import accuracy_score, precision_score, recall_score, f1_score, confusion_matrix, ConfusionMatrixDisplay\n",
    "\n",
    "\n",
    "\n",
    "\n",
    "#Silencing Warnings (This step should be done AFTER finishing the modeling, for viewing purposes only)\n",
    "import warnings\n",
    "warnings.filterwarnings(\"ignore\")"
   ]
  },
  {
   "cell_type": "markdown",
   "id": "5f906a9c",
   "metadata": {},
   "source": [
    "## Importing Dataset"
   ]
  },
  {
   "cell_type": "code",
   "execution_count": 2,
   "id": "72334559",
   "metadata": {},
   "outputs": [],
   "source": [
    "filepath = r'C:\\Users\\jrica\\Downloads\\Bank Customer Churn Prediction.csv'"
   ]
  },
  {
   "cell_type": "code",
   "execution_count": 3,
   "id": "d59a93fa",
   "metadata": {},
   "outputs": [],
   "source": [
    "df = pd.read_csv(filepath)"
   ]
  },
  {
   "cell_type": "markdown",
   "id": "4a7c335a",
   "metadata": {},
   "source": [
    "**Dropping unecessary columns:** we can't use customer_id to predict anything and would be unethical to make predictions based on gender, reason why we are dropping these two columns."
   ]
  },
  {
   "cell_type": "code",
   "execution_count": 4,
   "id": "3a5a6c2f",
   "metadata": {},
   "outputs": [],
   "source": [
    "df = df.drop(['customer_id','gender'],axis=1)"
   ]
  },
  {
   "cell_type": "markdown",
   "id": "27606dca",
   "metadata": {},
   "source": [
    "Getting dummy variables for the categorical column 'Country', since the dataset is from an European bank."
   ]
  },
  {
   "cell_type": "code",
   "execution_count": 5,
   "id": "0f5f8874",
   "metadata": {},
   "outputs": [],
   "source": [
    "df = pd.get_dummies(columns=['country'],data=df,drop_first=True)"
   ]
  },
  {
   "cell_type": "code",
   "execution_count": 6,
   "id": "00c6c739",
   "metadata": {},
   "outputs": [
    {
     "data": {
      "text/plain": [
       "churn\n",
       "0    0.7963\n",
       "1    0.2037\n",
       "Name: proportion, dtype: float64"
      ]
     },
     "execution_count": 6,
     "metadata": {},
     "output_type": "execute_result"
    }
   ],
   "source": [
    "df['churn'].value_counts(normalize=True)"
   ]
  },
  {
   "cell_type": "markdown",
   "id": "ffa53dc8",
   "metadata": {},
   "source": [
    "Since the dataset is imbalanced (20% churned vs 80% stayed), we need to stratify the samples using the Y variable. This is important to guarantee that the y will have a balanced amount of churned customers and, thus, will improve our predictions."
   ]
  },
  {
   "cell_type": "code",
   "execution_count": 7,
   "id": "08d950ed",
   "metadata": {},
   "outputs": [],
   "source": [
    "#Splitting the Groups\n",
    "X = df.copy().drop(['churn'],axis=1)\n",
    "y = df['churn']\n",
    "X_train,X_test,y_train,y_test = train_test_split(X,y,test_size = 0.20,stratify=y,random_state = 42)\n",
    "X_tr,X_val,y_tr,y_val = train_test_split(X_train,y_train,test_size = 0.20,stratify=y_train,random_state = 42)"
   ]
  },
  {
   "cell_type": "code",
   "execution_count": 8,
   "id": "f48345f5",
   "metadata": {},
   "outputs": [
    {
     "name": "stdout",
     "output_type": "stream",
     "text": [
      "Train Dataset\n",
      "X: 6400\n",
      "y: 6400\n",
      "Validation Dataset\n",
      "X: 1600\n",
      "y: 1600\n",
      "Test Dataset\n",
      "X: 2000\n",
      "y: 2000\n"
     ]
    }
   ],
   "source": [
    "print('Train Dataset')\n",
    "print('X: ' + str(X_tr.shape[0]))\n",
    "print('y: ' + str(y_tr.shape[0]))\n",
    "print('Validation Dataset')\n",
    "print('X: ' + str(X_val.shape[0]))\n",
    "print('y: ' + str(y_val.shape[0]))\n",
    "print('Test Dataset')\n",
    "print('X: ' + str(X_test.shape[0]))\n",
    "print('y: ' + str(y_test.shape[0]))"
   ]
  },
  {
   "cell_type": "markdown",
   "id": "67277bdf",
   "metadata": {},
   "source": [
    "#### Useful functions to retrieve the results:"
   ]
  },
  {
   "cell_type": "code",
   "execution_count": 9,
   "id": "47f3a86d",
   "metadata": {},
   "outputs": [],
   "source": [
    "#Logistic Regression\n",
    "def test_scores(model_name, y_set,y_pred):\n",
    "    # Extract accuracy, precision, recall, and f1 score from that row\n",
    "    f1 = metrics.f1_score(y_set,y_pred)\n",
    "    recall = metrics.recall_score(y_set,y_pred)\n",
    "    precision = metrics.precision_score(y_set,y_pred)\n",
    "    accuracy = metrics.accuracy_score(y_set,y_pred)\n",
    "  \n",
    "    # Create table of results\n",
    "    table = pd.DataFrame()\n",
    "    # Create table of results\n",
    "    table = pd.DataFrame({'Model': [model_name],\n",
    "                          'F1': [f1],\n",
    "                          'Recall': [recall],\n",
    "                          'Precision': [precision],\n",
    "                          'Accuracy': [accuracy]\n",
    "                         }\n",
    "                        )\n",
    "  \n",
    "    return table\n",
    "\n",
    "\n",
    "#Random Forest and XGB\n",
    "\n",
    "def rf_xgb_results_cv(model_name, model_object):\n",
    "    '''\n",
    "    Accepts as arguments a model name (your choice - string) and\n",
    "    a fit GridSearchCV model object.\n",
    "  \n",
    "    Returns a pandas df with the F1, recall, precision, and accuracy scores\n",
    "    for the model with the best mean F1 score across all validation folds.  \n",
    "    '''\n",
    "\n",
    "    # Get all the results from the CV and put them in a df\n",
    "    cv_results = pd.DataFrame(model_object.cv_results_)\n",
    "\n",
    "    # Isolate the row of the df with the max(mean f1 score)\n",
    "    best_estimator_results = cv_results.iloc[cv_results['mean_test_f1'].idxmax(), :]\n",
    "\n",
    "    # Extract accuracy, precision, recall, and f1 score from that row\n",
    "    f1 = best_estimator_results.mean_test_f1\n",
    "    recall = best_estimator_results.mean_test_recall\n",
    "    precision = best_estimator_results.mean_test_precision\n",
    "    accuracy = best_estimator_results.mean_test_accuracy\n",
    "  \n",
    "    # Create table of results\n",
    "    table = pd.DataFrame()\n",
    "    # Create table of results\n",
    "    table = pd.DataFrame({'Model': [model_name],\n",
    "                          'F1': [f1],\n",
    "                          'Recall': [recall],\n",
    "                          'Precision': [precision],\n",
    "                          'Accuracy': [accuracy]\n",
    "                         }\n",
    "                        )\n",
    "  \n",
    "    return table"
   ]
  },
  {
   "cell_type": "markdown",
   "id": "27855387",
   "metadata": {},
   "source": [
    "## Logistic Regression"
   ]
  },
  {
   "cell_type": "code",
   "execution_count": 10,
   "id": "04c35f02",
   "metadata": {},
   "outputs": [],
   "source": [
    "#Instantiate the Model and the Scaler\n",
    "log_reg = LogisticRegression()\n",
    "scaler = StandardScaler()"
   ]
  },
  {
   "cell_type": "code",
   "execution_count": 11,
   "id": "8c32768a",
   "metadata": {},
   "outputs": [],
   "source": [
    "X_tr_lr = scaler.fit_transform(X_tr)\n",
    "X_val_lr = scaler.fit_transform(X_val)"
   ]
  },
  {
   "cell_type": "code",
   "execution_count": 12,
   "id": "8bcb3c1c",
   "metadata": {},
   "outputs": [],
   "source": [
    "log_reg = log_reg.fit(X_tr_lr,y_tr)"
   ]
  },
  {
   "cell_type": "markdown",
   "id": "1348cb6e",
   "metadata": {},
   "source": [
    "## Random Forest"
   ]
  },
  {
   "cell_type": "markdown",
   "id": "27f173a5",
   "metadata": {},
   "source": [
    "#### Instantiate the Random Forest Classifier"
   ]
  },
  {
   "cell_type": "code",
   "execution_count": 13,
   "id": "21720b87",
   "metadata": {},
   "outputs": [],
   "source": [
    "rf = RandomForestClassifier(random_state=0)"
   ]
  },
  {
   "cell_type": "markdown",
   "id": "87c787b6",
   "metadata": {},
   "source": [
    "#### Create a dictionary of hyperparameters to tune and a list of the scoring metrics to capture"
   ]
  },
  {
   "cell_type": "code",
   "execution_count": 14,
   "id": "2059cd93",
   "metadata": {},
   "outputs": [],
   "source": [
    "cv_parameters = {\n",
    "    'max_depth': [2,3,4,5,None],\n",
    "    'min_samples_leaf':[1,2,3],\n",
    "    'min_samples_split':[2,3,4],\n",
    "    'max_features':[2,3,4],\n",
    "    'n_estimators':[25,50,75,100]\n",
    "}\n",
    "\n",
    "scoring = ['accuracy','precision','recall','f1']"
   ]
  },
  {
   "cell_type": "markdown",
   "id": "ef920399",
   "metadata": {},
   "source": [
    "#### Instantiate the GridSearchCV object"
   ]
  },
  {
   "cell_type": "code",
   "execution_count": 15,
   "id": "de25c01d",
   "metadata": {},
   "outputs": [],
   "source": [
    "rf_cv = GridSearchCV(rf,cv_parameters,scoring=scoring,cv=5,refit='recall')"
   ]
  },
  {
   "cell_type": "markdown",
   "id": "f7121f97",
   "metadata": {},
   "source": [
    "#### Fitting the model to the training data."
   ]
  },
  {
   "cell_type": "code",
   "execution_count": 16,
   "id": "533c5196",
   "metadata": {},
   "outputs": [
    {
     "name": "stdout",
     "output_type": "stream",
     "text": [
      "CPU times: total: 7min 30s\n",
      "Wall time: 10min 12s\n"
     ]
    },
    {
     "data": {
      "text/html": [
       "<style>#sk-container-id-1 {color: black;}#sk-container-id-1 pre{padding: 0;}#sk-container-id-1 div.sk-toggleable {background-color: white;}#sk-container-id-1 label.sk-toggleable__label {cursor: pointer;display: block;width: 100%;margin-bottom: 0;padding: 0.3em;box-sizing: border-box;text-align: center;}#sk-container-id-1 label.sk-toggleable__label-arrow:before {content: \"▸\";float: left;margin-right: 0.25em;color: #696969;}#sk-container-id-1 label.sk-toggleable__label-arrow:hover:before {color: black;}#sk-container-id-1 div.sk-estimator:hover label.sk-toggleable__label-arrow:before {color: black;}#sk-container-id-1 div.sk-toggleable__content {max-height: 0;max-width: 0;overflow: hidden;text-align: left;background-color: #f0f8ff;}#sk-container-id-1 div.sk-toggleable__content pre {margin: 0.2em;color: black;border-radius: 0.25em;background-color: #f0f8ff;}#sk-container-id-1 input.sk-toggleable__control:checked~div.sk-toggleable__content {max-height: 200px;max-width: 100%;overflow: auto;}#sk-container-id-1 input.sk-toggleable__control:checked~label.sk-toggleable__label-arrow:before {content: \"▾\";}#sk-container-id-1 div.sk-estimator input.sk-toggleable__control:checked~label.sk-toggleable__label {background-color: #d4ebff;}#sk-container-id-1 div.sk-label input.sk-toggleable__control:checked~label.sk-toggleable__label {background-color: #d4ebff;}#sk-container-id-1 input.sk-hidden--visually {border: 0;clip: rect(1px 1px 1px 1px);clip: rect(1px, 1px, 1px, 1px);height: 1px;margin: -1px;overflow: hidden;padding: 0;position: absolute;width: 1px;}#sk-container-id-1 div.sk-estimator {font-family: monospace;background-color: #f0f8ff;border: 1px dotted black;border-radius: 0.25em;box-sizing: border-box;margin-bottom: 0.5em;}#sk-container-id-1 div.sk-estimator:hover {background-color: #d4ebff;}#sk-container-id-1 div.sk-parallel-item::after {content: \"\";width: 100%;border-bottom: 1px solid gray;flex-grow: 1;}#sk-container-id-1 div.sk-label:hover label.sk-toggleable__label {background-color: #d4ebff;}#sk-container-id-1 div.sk-serial::before {content: \"\";position: absolute;border-left: 1px solid gray;box-sizing: border-box;top: 0;bottom: 0;left: 50%;z-index: 0;}#sk-container-id-1 div.sk-serial {display: flex;flex-direction: column;align-items: center;background-color: white;padding-right: 0.2em;padding-left: 0.2em;position: relative;}#sk-container-id-1 div.sk-item {position: relative;z-index: 1;}#sk-container-id-1 div.sk-parallel {display: flex;align-items: stretch;justify-content: center;background-color: white;position: relative;}#sk-container-id-1 div.sk-item::before, #sk-container-id-1 div.sk-parallel-item::before {content: \"\";position: absolute;border-left: 1px solid gray;box-sizing: border-box;top: 0;bottom: 0;left: 50%;z-index: -1;}#sk-container-id-1 div.sk-parallel-item {display: flex;flex-direction: column;z-index: 1;position: relative;background-color: white;}#sk-container-id-1 div.sk-parallel-item:first-child::after {align-self: flex-end;width: 50%;}#sk-container-id-1 div.sk-parallel-item:last-child::after {align-self: flex-start;width: 50%;}#sk-container-id-1 div.sk-parallel-item:only-child::after {width: 0;}#sk-container-id-1 div.sk-dashed-wrapped {border: 1px dashed gray;margin: 0 0.4em 0.5em 0.4em;box-sizing: border-box;padding-bottom: 0.4em;background-color: white;}#sk-container-id-1 div.sk-label label {font-family: monospace;font-weight: bold;display: inline-block;line-height: 1.2em;}#sk-container-id-1 div.sk-label-container {text-align: center;}#sk-container-id-1 div.sk-container {/* jupyter's `normalize.less` sets `[hidden] { display: none; }` but bootstrap.min.css set `[hidden] { display: none !important; }` so we also need the `!important` here to be able to override the default hidden behavior on the sphinx rendered scikit-learn.org. See: https://github.com/scikit-learn/scikit-learn/issues/21755 */display: inline-block !important;position: relative;}#sk-container-id-1 div.sk-text-repr-fallback {display: none;}</style><div id=\"sk-container-id-1\" class=\"sk-top-container\"><div class=\"sk-text-repr-fallback\"><pre>GridSearchCV(cv=5, estimator=RandomForestClassifier(random_state=0),\n",
       "             param_grid={&#x27;max_depth&#x27;: [2, 3, 4, 5, None],\n",
       "                         &#x27;max_features&#x27;: [2, 3, 4],\n",
       "                         &#x27;min_samples_leaf&#x27;: [1, 2, 3],\n",
       "                         &#x27;min_samples_split&#x27;: [2, 3, 4],\n",
       "                         &#x27;n_estimators&#x27;: [25, 50, 75, 100]},\n",
       "             refit=&#x27;recall&#x27;, scoring=[&#x27;accuracy&#x27;, &#x27;precision&#x27;, &#x27;recall&#x27;, &#x27;f1&#x27;])</pre><b>In a Jupyter environment, please rerun this cell to show the HTML representation or trust the notebook. <br />On GitHub, the HTML representation is unable to render, please try loading this page with nbviewer.org.</b></div><div class=\"sk-container\" hidden><div class=\"sk-item sk-dashed-wrapped\"><div class=\"sk-label-container\"><div class=\"sk-label sk-toggleable\"><input class=\"sk-toggleable__control sk-hidden--visually\" id=\"sk-estimator-id-1\" type=\"checkbox\" ><label for=\"sk-estimator-id-1\" class=\"sk-toggleable__label sk-toggleable__label-arrow\">GridSearchCV</label><div class=\"sk-toggleable__content\"><pre>GridSearchCV(cv=5, estimator=RandomForestClassifier(random_state=0),\n",
       "             param_grid={&#x27;max_depth&#x27;: [2, 3, 4, 5, None],\n",
       "                         &#x27;max_features&#x27;: [2, 3, 4],\n",
       "                         &#x27;min_samples_leaf&#x27;: [1, 2, 3],\n",
       "                         &#x27;min_samples_split&#x27;: [2, 3, 4],\n",
       "                         &#x27;n_estimators&#x27;: [25, 50, 75, 100]},\n",
       "             refit=&#x27;recall&#x27;, scoring=[&#x27;accuracy&#x27;, &#x27;precision&#x27;, &#x27;recall&#x27;, &#x27;f1&#x27;])</pre></div></div></div><div class=\"sk-parallel\"><div class=\"sk-parallel-item\"><div class=\"sk-item\"><div class=\"sk-label-container\"><div class=\"sk-label sk-toggleable\"><input class=\"sk-toggleable__control sk-hidden--visually\" id=\"sk-estimator-id-2\" type=\"checkbox\" ><label for=\"sk-estimator-id-2\" class=\"sk-toggleable__label sk-toggleable__label-arrow\">estimator: RandomForestClassifier</label><div class=\"sk-toggleable__content\"><pre>RandomForestClassifier(random_state=0)</pre></div></div></div><div class=\"sk-serial\"><div class=\"sk-item\"><div class=\"sk-estimator sk-toggleable\"><input class=\"sk-toggleable__control sk-hidden--visually\" id=\"sk-estimator-id-3\" type=\"checkbox\" ><label for=\"sk-estimator-id-3\" class=\"sk-toggleable__label sk-toggleable__label-arrow\">RandomForestClassifier</label><div class=\"sk-toggleable__content\"><pre>RandomForestClassifier(random_state=0)</pre></div></div></div></div></div></div></div></div></div></div>"
      ],
      "text/plain": [
       "GridSearchCV(cv=5, estimator=RandomForestClassifier(random_state=0),\n",
       "             param_grid={'max_depth': [2, 3, 4, 5, None],\n",
       "                         'max_features': [2, 3, 4],\n",
       "                         'min_samples_leaf': [1, 2, 3],\n",
       "                         'min_samples_split': [2, 3, 4],\n",
       "                         'n_estimators': [25, 50, 75, 100]},\n",
       "             refit='recall', scoring=['accuracy', 'precision', 'recall', 'f1'])"
      ]
     },
     "execution_count": 16,
     "metadata": {},
     "output_type": "execute_result"
    }
   ],
   "source": [
    "%%time\n",
    "rf_cv.fit(X_tr,y_tr)"
   ]
  },
  {
   "cell_type": "markdown",
   "id": "1ab32247",
   "metadata": {},
   "source": [
    "#### Best Score and Hyperparameters"
   ]
  },
  {
   "cell_type": "code",
   "execution_count": 17,
   "id": "43c73fd3",
   "metadata": {},
   "outputs": [
    {
     "name": "stdout",
     "output_type": "stream",
     "text": [
      "The best average score of all folds was: 0.4731977600943118\n"
     ]
    }
   ],
   "source": [
    "print('The best average score of all folds was: ' + str(rf_cv.best_score_))"
   ]
  },
  {
   "cell_type": "code",
   "execution_count": 18,
   "id": "9406f9ae",
   "metadata": {},
   "outputs": [
    {
     "name": "stdout",
     "output_type": "stream",
     "text": [
      "The best hyperparameters combination was: {'max_depth': None, 'max_features': 4, 'min_samples_leaf': 1, 'min_samples_split': 4, 'n_estimators': 50}\n"
     ]
    }
   ],
   "source": [
    "print('The best hyperparameters combination was: ' + str(rf_cv.best_params_))"
   ]
  },
  {
   "cell_type": "markdown",
   "id": "7d562752",
   "metadata": {},
   "source": [
    "## XGBoost"
   ]
  },
  {
   "cell_type": "markdown",
   "id": "570f81a2",
   "metadata": {},
   "source": [
    "#### Instantiate the XGBoost Classifier"
   ]
  },
  {
   "cell_type": "code",
   "execution_count": 19,
   "id": "4b919258",
   "metadata": {},
   "outputs": [],
   "source": [
    "xgb = XGBClassifier(objective='binary:logistic')"
   ]
  },
  {
   "cell_type": "markdown",
   "id": "43f016d7",
   "metadata": {},
   "source": [
    "#### Create a dictionary of hyperparameters to tune"
   ]
  },
  {
   "cell_type": "code",
   "execution_count": 20,
   "id": "74b7a98f",
   "metadata": {},
   "outputs": [],
   "source": [
    "cv_parameters_xgb ={'max_depth': [3, 6, 9, 12],\n",
    "             'min_child_weight': [1, 3, 5, 7],\n",
    "             'learning_rate': [0.01, 0.1],\n",
    "             'n_estimators': [50, 100, 150, 300]\n",
    "             }\n"
   ]
  },
  {
   "cell_type": "markdown",
   "id": "5d59e587",
   "metadata": {},
   "source": [
    "#### Define a list of scoring metrics to capture"
   ]
  },
  {
   "cell_type": "code",
   "execution_count": 21,
   "id": "c5fa8e23",
   "metadata": {},
   "outputs": [],
   "source": [
    "scoring = ['accuracy','precision','recall','f1']"
   ]
  },
  {
   "cell_type": "markdown",
   "id": "eaf54b3e",
   "metadata": {},
   "source": [
    "#### Instantiate the GridSearchCV object"
   ]
  },
  {
   "cell_type": "code",
   "execution_count": 22,
   "id": "511657ea",
   "metadata": {},
   "outputs": [],
   "source": [
    "xgb_cv = GridSearchCV(estimator=xgb,\n",
    "                     param_grid=cv_parameters_xgb,\n",
    "                     scoring=scoring,\n",
    "                     cv=5,\n",
    "                     refit='recall'\n",
    "                     )"
   ]
  },
  {
   "cell_type": "markdown",
   "id": "6c1e8621",
   "metadata": {},
   "source": [
    "#### Fitting the model to the train data"
   ]
  },
  {
   "cell_type": "code",
   "execution_count": 23,
   "id": "5fab9e3a",
   "metadata": {},
   "outputs": [
    {
     "name": "stdout",
     "output_type": "stream",
     "text": [
      "CPU times: total: 13min 22s\n",
      "Wall time: 1min 19s\n"
     ]
    },
    {
     "data": {
      "text/html": [
       "<style>#sk-container-id-2 {color: black;}#sk-container-id-2 pre{padding: 0;}#sk-container-id-2 div.sk-toggleable {background-color: white;}#sk-container-id-2 label.sk-toggleable__label {cursor: pointer;display: block;width: 100%;margin-bottom: 0;padding: 0.3em;box-sizing: border-box;text-align: center;}#sk-container-id-2 label.sk-toggleable__label-arrow:before {content: \"▸\";float: left;margin-right: 0.25em;color: #696969;}#sk-container-id-2 label.sk-toggleable__label-arrow:hover:before {color: black;}#sk-container-id-2 div.sk-estimator:hover label.sk-toggleable__label-arrow:before {color: black;}#sk-container-id-2 div.sk-toggleable__content {max-height: 0;max-width: 0;overflow: hidden;text-align: left;background-color: #f0f8ff;}#sk-container-id-2 div.sk-toggleable__content pre {margin: 0.2em;color: black;border-radius: 0.25em;background-color: #f0f8ff;}#sk-container-id-2 input.sk-toggleable__control:checked~div.sk-toggleable__content {max-height: 200px;max-width: 100%;overflow: auto;}#sk-container-id-2 input.sk-toggleable__control:checked~label.sk-toggleable__label-arrow:before {content: \"▾\";}#sk-container-id-2 div.sk-estimator input.sk-toggleable__control:checked~label.sk-toggleable__label {background-color: #d4ebff;}#sk-container-id-2 div.sk-label input.sk-toggleable__control:checked~label.sk-toggleable__label {background-color: #d4ebff;}#sk-container-id-2 input.sk-hidden--visually {border: 0;clip: rect(1px 1px 1px 1px);clip: rect(1px, 1px, 1px, 1px);height: 1px;margin: -1px;overflow: hidden;padding: 0;position: absolute;width: 1px;}#sk-container-id-2 div.sk-estimator {font-family: monospace;background-color: #f0f8ff;border: 1px dotted black;border-radius: 0.25em;box-sizing: border-box;margin-bottom: 0.5em;}#sk-container-id-2 div.sk-estimator:hover {background-color: #d4ebff;}#sk-container-id-2 div.sk-parallel-item::after {content: \"\";width: 100%;border-bottom: 1px solid gray;flex-grow: 1;}#sk-container-id-2 div.sk-label:hover label.sk-toggleable__label {background-color: #d4ebff;}#sk-container-id-2 div.sk-serial::before {content: \"\";position: absolute;border-left: 1px solid gray;box-sizing: border-box;top: 0;bottom: 0;left: 50%;z-index: 0;}#sk-container-id-2 div.sk-serial {display: flex;flex-direction: column;align-items: center;background-color: white;padding-right: 0.2em;padding-left: 0.2em;position: relative;}#sk-container-id-2 div.sk-item {position: relative;z-index: 1;}#sk-container-id-2 div.sk-parallel {display: flex;align-items: stretch;justify-content: center;background-color: white;position: relative;}#sk-container-id-2 div.sk-item::before, #sk-container-id-2 div.sk-parallel-item::before {content: \"\";position: absolute;border-left: 1px solid gray;box-sizing: border-box;top: 0;bottom: 0;left: 50%;z-index: -1;}#sk-container-id-2 div.sk-parallel-item {display: flex;flex-direction: column;z-index: 1;position: relative;background-color: white;}#sk-container-id-2 div.sk-parallel-item:first-child::after {align-self: flex-end;width: 50%;}#sk-container-id-2 div.sk-parallel-item:last-child::after {align-self: flex-start;width: 50%;}#sk-container-id-2 div.sk-parallel-item:only-child::after {width: 0;}#sk-container-id-2 div.sk-dashed-wrapped {border: 1px dashed gray;margin: 0 0.4em 0.5em 0.4em;box-sizing: border-box;padding-bottom: 0.4em;background-color: white;}#sk-container-id-2 div.sk-label label {font-family: monospace;font-weight: bold;display: inline-block;line-height: 1.2em;}#sk-container-id-2 div.sk-label-container {text-align: center;}#sk-container-id-2 div.sk-container {/* jupyter's `normalize.less` sets `[hidden] { display: none; }` but bootstrap.min.css set `[hidden] { display: none !important; }` so we also need the `!important` here to be able to override the default hidden behavior on the sphinx rendered scikit-learn.org. See: https://github.com/scikit-learn/scikit-learn/issues/21755 */display: inline-block !important;position: relative;}#sk-container-id-2 div.sk-text-repr-fallback {display: none;}</style><div id=\"sk-container-id-2\" class=\"sk-top-container\"><div class=\"sk-text-repr-fallback\"><pre>GridSearchCV(cv=5,\n",
       "             estimator=XGBClassifier(base_score=None, booster=None,\n",
       "                                     callbacks=None, colsample_bylevel=None,\n",
       "                                     colsample_bynode=None,\n",
       "                                     colsample_bytree=None, device=None,\n",
       "                                     early_stopping_rounds=None,\n",
       "                                     enable_categorical=False, eval_metric=None,\n",
       "                                     feature_types=None, gamma=None,\n",
       "                                     grow_policy=None, importance_type=None,\n",
       "                                     interaction_constraints=None,\n",
       "                                     learning_rate=None,...\n",
       "                                     max_leaves=None, min_child_weight=None,\n",
       "                                     missing=nan, monotone_constraints=None,\n",
       "                                     multi_strategy=None, n_estimators=None,\n",
       "                                     n_jobs=None, num_parallel_tree=None,\n",
       "                                     random_state=None, ...),\n",
       "             param_grid={&#x27;learning_rate&#x27;: [0.01, 0.1],\n",
       "                         &#x27;max_depth&#x27;: [3, 6, 9, 12],\n",
       "                         &#x27;min_child_weight&#x27;: [1, 3, 5, 7],\n",
       "                         &#x27;n_estimators&#x27;: [50, 100, 150, 300]},\n",
       "             refit=&#x27;recall&#x27;, scoring=[&#x27;accuracy&#x27;, &#x27;precision&#x27;, &#x27;recall&#x27;, &#x27;f1&#x27;])</pre><b>In a Jupyter environment, please rerun this cell to show the HTML representation or trust the notebook. <br />On GitHub, the HTML representation is unable to render, please try loading this page with nbviewer.org.</b></div><div class=\"sk-container\" hidden><div class=\"sk-item sk-dashed-wrapped\"><div class=\"sk-label-container\"><div class=\"sk-label sk-toggleable\"><input class=\"sk-toggleable__control sk-hidden--visually\" id=\"sk-estimator-id-4\" type=\"checkbox\" ><label for=\"sk-estimator-id-4\" class=\"sk-toggleable__label sk-toggleable__label-arrow\">GridSearchCV</label><div class=\"sk-toggleable__content\"><pre>GridSearchCV(cv=5,\n",
       "             estimator=XGBClassifier(base_score=None, booster=None,\n",
       "                                     callbacks=None, colsample_bylevel=None,\n",
       "                                     colsample_bynode=None,\n",
       "                                     colsample_bytree=None, device=None,\n",
       "                                     early_stopping_rounds=None,\n",
       "                                     enable_categorical=False, eval_metric=None,\n",
       "                                     feature_types=None, gamma=None,\n",
       "                                     grow_policy=None, importance_type=None,\n",
       "                                     interaction_constraints=None,\n",
       "                                     learning_rate=None,...\n",
       "                                     max_leaves=None, min_child_weight=None,\n",
       "                                     missing=nan, monotone_constraints=None,\n",
       "                                     multi_strategy=None, n_estimators=None,\n",
       "                                     n_jobs=None, num_parallel_tree=None,\n",
       "                                     random_state=None, ...),\n",
       "             param_grid={&#x27;learning_rate&#x27;: [0.01, 0.1],\n",
       "                         &#x27;max_depth&#x27;: [3, 6, 9, 12],\n",
       "                         &#x27;min_child_weight&#x27;: [1, 3, 5, 7],\n",
       "                         &#x27;n_estimators&#x27;: [50, 100, 150, 300]},\n",
       "             refit=&#x27;recall&#x27;, scoring=[&#x27;accuracy&#x27;, &#x27;precision&#x27;, &#x27;recall&#x27;, &#x27;f1&#x27;])</pre></div></div></div><div class=\"sk-parallel\"><div class=\"sk-parallel-item\"><div class=\"sk-item\"><div class=\"sk-label-container\"><div class=\"sk-label sk-toggleable\"><input class=\"sk-toggleable__control sk-hidden--visually\" id=\"sk-estimator-id-5\" type=\"checkbox\" ><label for=\"sk-estimator-id-5\" class=\"sk-toggleable__label sk-toggleable__label-arrow\">estimator: XGBClassifier</label><div class=\"sk-toggleable__content\"><pre>XGBClassifier(base_score=None, booster=None, callbacks=None,\n",
       "              colsample_bylevel=None, colsample_bynode=None,\n",
       "              colsample_bytree=None, device=None, early_stopping_rounds=None,\n",
       "              enable_categorical=False, eval_metric=None, feature_types=None,\n",
       "              gamma=None, grow_policy=None, importance_type=None,\n",
       "              interaction_constraints=None, learning_rate=None, max_bin=None,\n",
       "              max_cat_threshold=None, max_cat_to_onehot=None,\n",
       "              max_delta_step=None, max_depth=None, max_leaves=None,\n",
       "              min_child_weight=None, missing=nan, monotone_constraints=None,\n",
       "              multi_strategy=None, n_estimators=None, n_jobs=None,\n",
       "              num_parallel_tree=None, random_state=None, ...)</pre></div></div></div><div class=\"sk-serial\"><div class=\"sk-item\"><div class=\"sk-estimator sk-toggleable\"><input class=\"sk-toggleable__control sk-hidden--visually\" id=\"sk-estimator-id-6\" type=\"checkbox\" ><label for=\"sk-estimator-id-6\" class=\"sk-toggleable__label sk-toggleable__label-arrow\">XGBClassifier</label><div class=\"sk-toggleable__content\"><pre>XGBClassifier(base_score=None, booster=None, callbacks=None,\n",
       "              colsample_bylevel=None, colsample_bynode=None,\n",
       "              colsample_bytree=None, device=None, early_stopping_rounds=None,\n",
       "              enable_categorical=False, eval_metric=None, feature_types=None,\n",
       "              gamma=None, grow_policy=None, importance_type=None,\n",
       "              interaction_constraints=None, learning_rate=None, max_bin=None,\n",
       "              max_cat_threshold=None, max_cat_to_onehot=None,\n",
       "              max_delta_step=None, max_depth=None, max_leaves=None,\n",
       "              min_child_weight=None, missing=nan, monotone_constraints=None,\n",
       "              multi_strategy=None, n_estimators=None, n_jobs=None,\n",
       "              num_parallel_tree=None, random_state=None, ...)</pre></div></div></div></div></div></div></div></div></div></div>"
      ],
      "text/plain": [
       "GridSearchCV(cv=5,\n",
       "             estimator=XGBClassifier(base_score=None, booster=None,\n",
       "                                     callbacks=None, colsample_bylevel=None,\n",
       "                                     colsample_bynode=None,\n",
       "                                     colsample_bytree=None, device=None,\n",
       "                                     early_stopping_rounds=None,\n",
       "                                     enable_categorical=False, eval_metric=None,\n",
       "                                     feature_types=None, gamma=None,\n",
       "                                     grow_policy=None, importance_type=None,\n",
       "                                     interaction_constraints=None,\n",
       "                                     learning_rate=None,...\n",
       "                                     max_leaves=None, min_child_weight=None,\n",
       "                                     missing=nan, monotone_constraints=None,\n",
       "                                     multi_strategy=None, n_estimators=None,\n",
       "                                     n_jobs=None, num_parallel_tree=None,\n",
       "                                     random_state=None, ...),\n",
       "             param_grid={'learning_rate': [0.01, 0.1],\n",
       "                         'max_depth': [3, 6, 9, 12],\n",
       "                         'min_child_weight': [1, 3, 5, 7],\n",
       "                         'n_estimators': [50, 100, 150, 300]},\n",
       "             refit='recall', scoring=['accuracy', 'precision', 'recall', 'f1'])"
      ]
     },
     "execution_count": 23,
     "metadata": {},
     "output_type": "execute_result"
    }
   ],
   "source": [
    "%%time\n",
    "xgb_cv.fit(X_tr,y_tr)"
   ]
  },
  {
   "cell_type": "markdown",
   "id": "f910490a",
   "metadata": {},
   "source": [
    "#### Best Score and Hyperparameters"
   ]
  },
  {
   "cell_type": "code",
   "execution_count": 24,
   "id": "20cd8c6b",
   "metadata": {},
   "outputs": [
    {
     "name": "stdout",
     "output_type": "stream",
     "text": [
      "The best average score of all folds was: 0.496201002063071\n"
     ]
    }
   ],
   "source": [
    "print('The best average score of all folds was: ' + str(xgb_cv.best_score_))"
   ]
  },
  {
   "cell_type": "code",
   "execution_count": 25,
   "id": "548e62fc",
   "metadata": {},
   "outputs": [
    {
     "name": "stdout",
     "output_type": "stream",
     "text": [
      "The best hyperparameters combination was: {'learning_rate': 0.1, 'max_depth': 9, 'min_child_weight': 5, 'n_estimators': 150}\n"
     ]
    }
   ],
   "source": [
    "print('The best hyperparameters combination was: ' + str(xgb_cv.best_params_))"
   ]
  },
  {
   "cell_type": "markdown",
   "id": "2379d466",
   "metadata": {},
   "source": [
    "## Model Selection\n",
    "\n",
    "##### Using all three models to predict on the Validation Dataset"
   ]
  },
  {
   "cell_type": "code",
   "execution_count": 26,
   "id": "ec5f7f42",
   "metadata": {},
   "outputs": [],
   "source": [
    "### YOUR CODE HERE ###\n",
    "y_pred_rf = rf_cv.predict(X_val)\n",
    "y_pred_xgb = xgb_cv.predict(X_val)\n",
    "y_pred_lr = log_reg.predict(X_val_lr)"
   ]
  },
  {
   "cell_type": "markdown",
   "id": "bb13078a",
   "metadata": {},
   "source": [
    "#### Results for Validation Dataset\n",
    "\n",
    "##### The champion model will be selected to predict with the Test dataset"
   ]
  },
  {
   "cell_type": "code",
   "execution_count": 29,
   "id": "098672f9",
   "metadata": {},
   "outputs": [],
   "source": [
    "#Logistic Regression\n",
    "log_reg_val = test_scores('Logistic Regression - Validation',y_val,y_pred_lr)\n",
    "\n",
    "#Random Forest\n",
    "results_rf_cv = rf_xgb_results_cv('Random Forest CV',rf_cv)\n",
    "results_rf_val = test_scores('Random Forest CV - Validation Dataset',y_val,y_pred_rf)\n",
    "                                  \n",
    "#XGBoost\n",
    "results_xgb_cv = rf_xgb_results_cv('XGBoost CV',xgb_cv)\n",
    "results_xgb_val = test_scores('XGBoost CV - Validation Dataset',y_val,y_pred_xgb)"
   ]
  },
  {
   "cell_type": "code",
   "execution_count": 30,
   "id": "47639a20",
   "metadata": {},
   "outputs": [],
   "source": [
    "results = pd.concat([log_reg_val,results_rf_cv,results_rf_val,results_xgb_cv,results_xgb_val])"
   ]
  },
  {
   "cell_type": "code",
   "execution_count": 31,
   "id": "dcdb8610",
   "metadata": {},
   "outputs": [
    {
     "data": {
      "text/html": [
       "<div>\n",
       "<style scoped>\n",
       "    .dataframe tbody tr th:only-of-type {\n",
       "        vertical-align: middle;\n",
       "    }\n",
       "\n",
       "    .dataframe tbody tr th {\n",
       "        vertical-align: top;\n",
       "    }\n",
       "\n",
       "    .dataframe thead th {\n",
       "        text-align: right;\n",
       "    }\n",
       "</style>\n",
       "<table border=\"1\" class=\"dataframe\">\n",
       "  <thead>\n",
       "    <tr style=\"text-align: right;\">\n",
       "      <th></th>\n",
       "      <th>Model</th>\n",
       "      <th>F1</th>\n",
       "      <th>Recall</th>\n",
       "      <th>Precision</th>\n",
       "      <th>Accuracy</th>\n",
       "    </tr>\n",
       "  </thead>\n",
       "  <tbody>\n",
       "    <tr>\n",
       "      <th>0</th>\n",
       "      <td>XGBoost CV - Validation Dataset</td>\n",
       "      <td>0.580292</td>\n",
       "      <td>0.487730</td>\n",
       "      <td>0.716216</td>\n",
       "      <td>0.856250</td>\n",
       "    </tr>\n",
       "    <tr>\n",
       "      <th>0</th>\n",
       "      <td>XGBoost CV</td>\n",
       "      <td>0.586416</td>\n",
       "      <td>0.477026</td>\n",
       "      <td>0.762888</td>\n",
       "      <td>0.863281</td>\n",
       "    </tr>\n",
       "    <tr>\n",
       "      <th>0</th>\n",
       "      <td>Random Forest CV</td>\n",
       "      <td>0.576599</td>\n",
       "      <td>0.473198</td>\n",
       "      <td>0.739591</td>\n",
       "      <td>0.858594</td>\n",
       "    </tr>\n",
       "    <tr>\n",
       "      <th>0</th>\n",
       "      <td>Random Forest CV - Validation Dataset</td>\n",
       "      <td>0.570888</td>\n",
       "      <td>0.463190</td>\n",
       "      <td>0.743842</td>\n",
       "      <td>0.858125</td>\n",
       "    </tr>\n",
       "    <tr>\n",
       "      <th>0</th>\n",
       "      <td>Logistic Regression - Validation</td>\n",
       "      <td>0.300000</td>\n",
       "      <td>0.193252</td>\n",
       "      <td>0.670213</td>\n",
       "      <td>0.816250</td>\n",
       "    </tr>\n",
       "  </tbody>\n",
       "</table>\n",
       "</div>"
      ],
      "text/plain": [
       "                                   Model        F1    Recall  Precision  \\\n",
       "0        XGBoost CV - Validation Dataset  0.580292  0.487730   0.716216   \n",
       "0                             XGBoost CV  0.586416  0.477026   0.762888   \n",
       "0                       Random Forest CV  0.576599  0.473198   0.739591   \n",
       "0  Random Forest CV - Validation Dataset  0.570888  0.463190   0.743842   \n",
       "0       Logistic Regression - Validation  0.300000  0.193252   0.670213   \n",
       "\n",
       "   Accuracy  \n",
       "0  0.856250  \n",
       "0  0.863281  \n",
       "0  0.858594  \n",
       "0  0.858125  \n",
       "0  0.816250  "
      ]
     },
     "execution_count": 31,
     "metadata": {},
     "output_type": "execute_result"
    }
   ],
   "source": [
    "results.sort_values(by='Recall',ascending=False)"
   ]
  },
  {
   "cell_type": "markdown",
   "id": "e8fff69a",
   "metadata": {},
   "source": [
    "In this case, we are using **Recall** to determine the champion model, since the purpose of the model is to predict if a customer will Churn the bank or not and we want to minimize False Negatives because there is a high cost associated with a customer leaving.\n",
    "\n",
    "Just as a reminder:\n",
    "\n",
    "* **Recall** measures the ability of a classification model to identify all relevant instances (true positives) among the total actual instances (sum of true positives and false negatives). It is useful when the cost of false negatives is high.\n",
    "* **Precision** measures the accuracy of positive predictions made by the model. It is particularly important when the cost of false positives is high.\n",
    "* **Accuracy** measures the overall correctness of the model across all classes. It is a general metric but can be misleading in imbalanced datasets.\n",
    "* **F1 Score** is the harmonic mean of precision and recall. It provides a balance between precision and recall, making it suitable for situations where there is an uneven class distribution. F1 Score is often used when both false positives and false negatives are important, and you want to find a balance between precision and recall."
   ]
  },
  {
   "cell_type": "markdown",
   "id": "e2806496",
   "metadata": {},
   "source": [
    "#### Using Champion Model to Predict and collect final results"
   ]
  },
  {
   "cell_type": "code",
   "execution_count": 32,
   "id": "9d532781",
   "metadata": {},
   "outputs": [],
   "source": [
    "y_pred_final = xgb_cv.predict(X_test)\n",
    "results_xgb_final = test_scores('XGBoost CV - Test',y_pred_final,y_test)\n",
    "results = pd.concat([results,results_xgb_final])"
   ]
  },
  {
   "cell_type": "code",
   "execution_count": 33,
   "id": "882a2471",
   "metadata": {},
   "outputs": [
    {
     "data": {
      "text/html": [
       "<div>\n",
       "<style scoped>\n",
       "    .dataframe tbody tr th:only-of-type {\n",
       "        vertical-align: middle;\n",
       "    }\n",
       "\n",
       "    .dataframe tbody tr th {\n",
       "        vertical-align: top;\n",
       "    }\n",
       "\n",
       "    .dataframe thead th {\n",
       "        text-align: right;\n",
       "    }\n",
       "</style>\n",
       "<table border=\"1\" class=\"dataframe\">\n",
       "  <thead>\n",
       "    <tr style=\"text-align: right;\">\n",
       "      <th></th>\n",
       "      <th>Model</th>\n",
       "      <th>F1</th>\n",
       "      <th>Recall</th>\n",
       "      <th>Precision</th>\n",
       "      <th>Accuracy</th>\n",
       "    </tr>\n",
       "  </thead>\n",
       "  <tbody>\n",
       "    <tr>\n",
       "      <th>0</th>\n",
       "      <td>XGBoost CV - Test</td>\n",
       "      <td>0.561404</td>\n",
       "      <td>0.693141</td>\n",
       "      <td>0.471744</td>\n",
       "      <td>0.850000</td>\n",
       "    </tr>\n",
       "    <tr>\n",
       "      <th>0</th>\n",
       "      <td>XGBoost CV - Validation Dataset</td>\n",
       "      <td>0.580292</td>\n",
       "      <td>0.487730</td>\n",
       "      <td>0.716216</td>\n",
       "      <td>0.856250</td>\n",
       "    </tr>\n",
       "    <tr>\n",
       "      <th>0</th>\n",
       "      <td>XGBoost CV</td>\n",
       "      <td>0.586416</td>\n",
       "      <td>0.477026</td>\n",
       "      <td>0.762888</td>\n",
       "      <td>0.863281</td>\n",
       "    </tr>\n",
       "    <tr>\n",
       "      <th>0</th>\n",
       "      <td>Random Forest CV</td>\n",
       "      <td>0.576599</td>\n",
       "      <td>0.473198</td>\n",
       "      <td>0.739591</td>\n",
       "      <td>0.858594</td>\n",
       "    </tr>\n",
       "    <tr>\n",
       "      <th>0</th>\n",
       "      <td>Random Forest CV - Validation Dataset</td>\n",
       "      <td>0.570888</td>\n",
       "      <td>0.463190</td>\n",
       "      <td>0.743842</td>\n",
       "      <td>0.858125</td>\n",
       "    </tr>\n",
       "    <tr>\n",
       "      <th>0</th>\n",
       "      <td>Logistic Regression - Validation</td>\n",
       "      <td>0.300000</td>\n",
       "      <td>0.193252</td>\n",
       "      <td>0.670213</td>\n",
       "      <td>0.816250</td>\n",
       "    </tr>\n",
       "  </tbody>\n",
       "</table>\n",
       "</div>"
      ],
      "text/plain": [
       "                                   Model        F1    Recall  Precision  \\\n",
       "0                      XGBoost CV - Test  0.561404  0.693141   0.471744   \n",
       "0        XGBoost CV - Validation Dataset  0.580292  0.487730   0.716216   \n",
       "0                             XGBoost CV  0.586416  0.477026   0.762888   \n",
       "0                       Random Forest CV  0.576599  0.473198   0.739591   \n",
       "0  Random Forest CV - Validation Dataset  0.570888  0.463190   0.743842   \n",
       "0       Logistic Regression - Validation  0.300000  0.193252   0.670213   \n",
       "\n",
       "   Accuracy  \n",
       "0  0.850000  \n",
       "0  0.856250  \n",
       "0  0.863281  \n",
       "0  0.858594  \n",
       "0  0.858125  \n",
       "0  0.816250  "
      ]
     },
     "execution_count": 33,
     "metadata": {},
     "output_type": "execute_result"
    }
   ],
   "source": [
    "results.sort_values(by='Recall',ascending=False)"
   ]
  },
  {
   "cell_type": "markdown",
   "id": "0c88fd42",
   "metadata": {},
   "source": [
    "Great News! The recall with the champion model is even higher when using the Test dataset. This means that we not only choose the correct model, but also discard the overfit."
   ]
  },
  {
   "cell_type": "markdown",
   "id": "7c547e54",
   "metadata": {},
   "source": [
    "#### Verifying the Results with Confusion Matrix"
   ]
  },
  {
   "cell_type": "code",
   "execution_count": 34,
   "id": "edd56103",
   "metadata": {},
   "outputs": [
    {
     "data": {
      "image/png": "[encoded data removed]",
      "text/plain": [
       "<Figure size 640x480 with 2 Axes>"
      ]
     },
     "metadata": {},
     "output_type": "display_data"
    }
   ],
   "source": [
    "def cm_plot(model,x_data,y_data):\n",
    "    model_pred = model.predict(x_data)\n",
    "    cm = confusion_matrix(y_data,model_pred,labels=model.classes_)\n",
    "    disp = ConfusionMatrixDisplay(confusion_matrix=cm,display_labels=model.classes_)\n",
    "    disp.plot()\n",
    "    plt.show()\n",
    "\n",
    "cm_plot(xgb_cv,X_test,y_test)"
   ]
  },
  {
   "cell_type": "markdown",
   "id": "ba849234",
   "metadata": {},
   "source": [
    "In this case, we had 215 (10.75%) customers that churned but the model did not predict. Moreover, we predicted that 85 customers would churn but they stayed. These two groups sum up to 15%. If the bank wants to minimize churn, a good idea would be to focus on the aspects of this 15% of customers and proactively reach out to know their concerns, doubts, and complains.\n",
    "\n",
    "This means that the model had **good results** and if the Bank wants to take actions to prevent customer churn, we ***could use this model*** in production"
   ]
  },
  {
   "cell_type": "markdown",
   "id": "7f5ffe24",
   "metadata": {},
   "source": [
    "#### Feature Importance"
   ]
  },
  {
   "cell_type": "code",
   "execution_count": 35,
   "id": "cbe6f9a3",
   "metadata": {},
   "outputs": [
    {
     "data": {
      "text/plain": [
       "<Axes: title={'center': 'Feature importance'}, xlabel='F score', ylabel='Features'>"
      ]
     },
     "execution_count": 35,
     "metadata": {},
     "output_type": "execute_result"
    },
    {
     "data": {
      "image/png": "[encoded data removed]",
      "text/plain": [
       "<Figure size 640x480 with 1 Axes>"
      ]
     },
     "metadata": {},
     "output_type": "display_data"
    }
   ],
   "source": [
    "### YOUR CODE HERE ###\n",
    "plot_importance(xgb_cv.best_estimator_)"
   ]
  },
  {
   "cell_type": "markdown",
   "id": "b79d989c",
   "metadata": {},
   "source": [
    "Plotting the Feature Importance chart for any champion model is important to capture the variables that were able to predict the most results. In this case, credit score, estimated salary and available balance were the most important variables, so any churn-preventing actions that the bank wants to take should consider these aspects for each customer"
   ]
  },
  {
   "cell_type": "code",
   "execution_count": 63,
   "id": "f42d5b8c",
   "metadata": {},
   "outputs": [
    {
     "data": {
      "text/plain": [
       "Text(0.5, 1.0, 'Available Balance vs Churn')"
      ]
     },
     "execution_count": 63,
     "metadata": {},
     "output_type": "execute_result"
    },
    {
     "data": {
      "image/png": "[encoded data removed]",
      "text/plain": [
       "<Figure size 1600x500 with 3 Axes>"
      ]
     },
     "metadata": {},
     "output_type": "display_data"
    }
   ],
   "source": [
    "fig, axes = plt.subplots(1, 3, figsize=(16, 5))\n",
    "sns.histplot(data=df,\n",
    "             x='credit_score',\n",
    "             ax=axes[0],\n",
    "             palette='crest',\n",
    "             hue='churn',\n",
    "             multiple='stack',\n",
    "             stat='percent',\n",
    "             common_norm=False)\n",
    "axes[0].set_title('Credit Score vs Churn')\n",
    "\n",
    "sns.histplot(data=df,\n",
    "             x='estimated_salary',\n",
    "             ax=axes[1],\n",
    "             palette='crest',\n",
    "             hue='churn',\n",
    "             multiple='stack',\n",
    "             stat='percent',\n",
    "             common_norm=False)\n",
    "axes[1].set_title('Estimated Salary vs Churn')\n",
    "\n",
    "sns.histplot(data=df,\n",
    "             x='balance',\n",
    "             ax=axes[2],\n",
    "             palette='crest',\n",
    "             hue='churn',\n",
    "             multiple='stack',\n",
    "             stat='percent',\n",
    "             common_norm=False)\n",
    "axes[2].set_title('Available Balance vs Churn')"
   ]
  },
  {
   "cell_type": "markdown",
   "id": "3646c21b",
   "metadata": {},
   "source": [
    "### Conclusion"
   ]
  },
  {
   "cell_type": "markdown",
   "id": "fc8e9aad",
   "metadata": {},
   "source": [
    "As we can see, although **Estimated Salary** is a good predictor variable, the distribution of churned customers along all ranges is very similar, which means that the Bank cannot perform any countermeasure along a specific salary range.\n",
    "\n",
    "However, both **Credit Scores** and **Available Balance** are good candidates for a hypothesis testing scenario, where we could select a sample of customers with $0 - $25,000 of Available balance and Credit Score between 600-700 and perform a treatment (exempt Bank fees for a determined period, upgrade their Credit Card without fee, etc.).\n",
    "\n",
    "This was an important exercise for real-life problems where Modeling and Hypothesis Testing can be complementary and work together to prevent losses."
   ]
  }
 ],
 "metadata": {
  "kernelspec": {
   "display_name": "Python 3 (ipykernel)",
   "language": "python",
   "name": "python3"
  },
  "language_info": {
   "codemirror_mode": {
    "name": "ipython",
    "version": 3
   },
   "file_extension": ".py",
   "mimetype": "text/x-python",
   "name": "python",
   "nbconvert_exporter": "python",
   "pygments_lexer": "ipython3",
   "version": "3.11.5"
  }
 },
 "nbformat": 4,
 "nbformat_minor": 5
}
